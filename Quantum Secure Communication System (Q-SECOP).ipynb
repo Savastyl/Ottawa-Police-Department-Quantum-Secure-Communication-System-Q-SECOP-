{
 "cells": [
  {
   "cell_type": "code",
   "execution_count": 1,
   "id": "6311ecd0-9875-472f-a6f1-3d0dfbaf17a7",
   "metadata": {
    "tags": []
   },
   "outputs": [
    {
     "name": "stdout",
     "output_type": "stream",
     "text": [
      "Keys don't match. Possible eavesdropping detected. Stay alert, Detective Eve might be listening!\n"
     ]
    }
   ],
   "source": [
    "from qiskit import QuantumCircuit, execute, Aer\n",
    "import random\n",
    "\n",
    "# Define the quantum circuit\n",
    "def bb84_circuit(bits, bases):\n",
    "    n = len(bits)\n",
    "    bb84 = QuantumCircuit(n)\n",
    "\n",
    "    # Sergeant Alice prepares qubits\n",
    "    for i in range(n):\n",
    "        if bases[i] == 1: # Prepare qubit in X basis\n",
    "            bb84.h(i)\n",
    "        if bits[i] == 1: # Flip qubit if bit is 1\n",
    "            bb84.x(i)\n",
    "\n",
    "    # Alice sends qubits and Officer Bob measures them\n",
    "    for i in range(n):\n",
    "        if bases[i] == 1: # Measure qubit in X basis\n",
    "            bb84.h(i)\n",
    "    bb84.measure_all()\n",
    "    \n",
    "    return bb84\n",
    "\n",
    "# Chief Officer Clarke assigns a task to Sergeant Alice and Officer Bob\n",
    "n = 100  # number of bits\n",
    "\n",
    "# Sergeant Alice prepares her bits and bases\n",
    "alice_bits = [random.randint(0,1) for _ in range(n)]\n",
    "alice_bases = [random.randint(0,1) for _ in range(n)]\n",
    "\n",
    "# Officer Bob prepares his bases\n",
    "bob_bases = [random.randint(0,1) for _ in range(n)]\n",
    "\n",
    "# Alice creates and runs the BB84 circuit\n",
    "bb84 = bb84_circuit(alice_bits, alice_bases)\n",
    "result = execute(bb84, Aer.get_backend('qasm_simulator')).result()\n",
    "bob_measurements = list(map(int, list(result.get_counts().most_frequent())))\n",
    "\n",
    "# Alice and Bob compare bases and keep bits where they used the same basis\n",
    "same_bases = [i for i in range(n) if alice_bases[i] == bob_bases[i]]\n",
    "alice_key = [alice_bits[i] for i in same_bases]\n",
    "bob_key = [bob_measurements[i] for i in same_bases]\n",
    "\n",
    "# Check if there are any differences in their keys (which could indicate eavesdropping by Detective Eve)\n",
    "if alice_key == bob_key:\n",
    "    print(\"Keys match. No eavesdropping detected. Good job, Sergeant Alice and Officer Bob!\")\n",
    "else:\n",
    "    print(\"Keys don't match. Possible eavesdropping detected. Stay alert, Detective Eve might be listening!\")\n"
   ]
  },
  {
   "cell_type": "code",
   "execution_count": null,
   "id": "37570681-e655-4993-9706-e5a9d9e3de6c",
   "metadata": {},
   "outputs": [],
   "source": []
  }
 ],
 "metadata": {
  "kernelspec": {
   "display_name": "Python 3 (ipykernel)",
   "language": "python",
   "name": "python3"
  },
  "language_info": {
   "codemirror_mode": {
    "name": "ipython",
    "version": 3
   },
   "file_extension": ".py",
   "mimetype": "text/x-python",
   "name": "python",
   "nbconvert_exporter": "python",
   "pygments_lexer": "ipython3",
   "version": "3.10.8"
  },
  "widgets": {
   "application/vnd.jupyter.widget-state+json": {
    "state": {},
    "version_major": 2,
    "version_minor": 0
   }
  }
 },
 "nbformat": 4,
 "nbformat_minor": 5
}
